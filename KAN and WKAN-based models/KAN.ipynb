{
  "cells": [
    {
      "cell_type": "code",
      "execution_count": 87,
      "metadata": {
        "id": "D_KA0L10W_EW"
      },
      "outputs": [],
      "source": [
        "#Library\n",
        "import os\n",
        "import pandas as pd\n",
        "import numpy as np\n",
        "import matplotlib as mpl\n",
        "from sklearn.model_selection import train_test_split\n",
        "from sklearn.preprocessing import StandardScaler\n",
        "import torch\n",
        "import torch.nn as nn\n",
        "import torch.optim as optim\n",
        "import torch.nn.functional as F\n",
        "from matplotlib import pyplot as plt\n",
        "from torch.utils.data import DataLoader, random_split, Dataset,TensorDataset\n",
        "\n",
        "import random\n",
        "import joblib\n",
        "from google.colab import files\n",
        "import matplotlib.dates as mdates"
      ]
    },
    {
      "cell_type": "code",
      "source": [
        "import tensorflow as tf\n",
        "\n",
        "seed = 311\n",
        "np.random.seed(seed)\n",
        "random.seed(seed)\n",
        "tf.random.set_seed(seed)\n",
        "\n",
        "# To enforce determinism on operations\n",
        "import os\n",
        "os.environ['TF_DETERMINISTIC_OPS'] = '1'"
      ],
      "metadata": {
        "id": "EvvV3j5kVSeD"
      },
      "execution_count": 88,
      "outputs": []
    },
    {
      "cell_type": "code",
      "execution_count": 89,
      "metadata": {
        "colab": {
          "base_uri": "https://localhost:8080/"
        },
        "id": "3Pah970St2Pe",
        "outputId": "76bab116-04bc-4f31-a2d4-6ac535fb28ea"
      },
      "outputs": [
        {
          "output_type": "stream",
          "name": "stdout",
          "text": [
            "Drive already mounted at /content/drive; to attempt to forcibly remount, call drive.mount(\"/content/drive\", force_remount=True).\n"
          ]
        }
      ],
      "source": [
        "from google.colab import drive\n",
        "drive.mount('/content/drive')"
      ]
    },
    {
      "cell_type": "code",
      "execution_count": 90,
      "metadata": {
        "id": "tQSsnFIkSkj-"
      },
      "outputs": [],
      "source": [
        "#Data\n",
        "daily = pd.read_excel('/content/drive/MyDrive/Colab Notebooks/SDE_driven/savè.xlsx')\n",
        "\n",
        "discharge = daily.iloc[:1280, 0].to_numpy()\n",
        "plui = daily.iloc[:1280, 1].to_numpy()\n",
        "etp = daily.iloc[:1280, 2].to_numpy()\n",
        "\n",
        "discharge1 = daily.iloc[1280:, 0].to_numpy()\n",
        "plui1 = daily.iloc[1280:, 1].to_numpy()\n",
        "etp1 = daily.iloc[1280:, 2].to_numpy()"
      ]
    },
    {
      "cell_type": "code",
      "source": [
        "#Calibration data\n",
        "discharge = daily.iloc[:1280, 0].to_numpy()\n",
        "plui = daily.iloc[:1280, 1].to_numpy()\n",
        "etp = daily.iloc[:1280, 2].to_numpy()\n",
        "\n",
        "#Validation data\n",
        "discharge1 = daily.iloc[1280:, 0].to_numpy()\n",
        "plui1 = daily.iloc[1280:, 1].to_numpy()\n",
        "etp1 = daily.iloc[1280:, 2].to_numpy()"
      ],
      "metadata": {
        "id": "lM15d2OVjnw6"
      },
      "execution_count": 91,
      "outputs": []
    },
    {
      "cell_type": "code",
      "source": [
        "discharge[0]"
      ],
      "metadata": {
        "colab": {
          "base_uri": "https://localhost:8080/"
        },
        "id": "Aa5vqbtpLLkU",
        "outputId": "1628a0b8-26fc-4d5f-a7ba-3c2119d19ea4"
      },
      "execution_count": 92,
      "outputs": [
        {
          "output_type": "execute_result",
          "data": {
            "text/plain": [
              "np.float64(0.0640000030398369)"
            ]
          },
          "metadata": {},
          "execution_count": 92
        }
      ]
    },
    {
      "cell_type": "code",
      "execution_count": 93,
      "metadata": {
        "id": "s4v9WPnl5GH4"
      },
      "outputs": [],
      "source": [
        "#NSE, RMSE, R2\n",
        "def nash_sutcliffe_efficiency(observed, simulated):\n",
        "    obs_mean = np.mean(observed)\n",
        "    numerator = np.sum((observed - simulated) ** 2)\n",
        "    denominator = np.sum((observed - obs_mean) ** 2)\n",
        "\n",
        "    nse = 1 - (numerator / denominator)\n",
        "    return nse\n",
        "\n",
        "def calculate_rmse(observed, predicted):\n",
        "\n",
        "    rmse = np.sqrt(np.mean((observed - predicted)**2))\n",
        "    return rmse\n",
        "\n",
        "def calculate_r2(observed, predicted):\n",
        "\n",
        "    mean_observed = np.mean(observed)\n",
        "    mean_predicted = np.mean(predicted)\n",
        "\n",
        "    numerator = np.sum((observed - mean_observed) * (predicted - mean_predicted))\n",
        "    denominator = np.sqrt(np.sum((observed - mean_observed)**2)) * np.sqrt(np.sum((predicted - mean_predicted)**2))\n",
        "\n",
        "    r2 = (numerator / denominator)**2\n",
        "    return r2\n"
      ]
    },
    {
      "cell_type": "markdown",
      "metadata": {
        "id": "odMbPwjOn486"
      },
      "source": [
        "KAN"
      ]
    },
    {
      "cell_type": "code",
      "execution_count": 94,
      "metadata": {
        "id": "9KZs1_zdrDMd"
      },
      "outputs": [],
      "source": [
        "import sys\n",
        "sys.path.append('/content/drive/MyDrive/Colab Notebooks/KAN')"
      ]
    },
    {
      "cell_type": "code",
      "execution_count": 95,
      "metadata": {
        "id": "5wAPYa_wrHuU"
      },
      "outputs": [],
      "source": [
        "# import tensorflow as tf\n",
        "\n",
        "# from torch.utils.data import DataLoader, random_split, Dataset\n",
        "from sklearn.preprocessing import MinMaxScaler, StandardScaler\n",
        "import seaborn as sns\n",
        "from utils import EarlyStopping,KAN,KANLinear,kan_prediction_plots\n",
        "# from google.colab import files\n",
        "# mpl.rcParams['figure.figsize'] = (12,8)\n",
        "mpl.rcParams['axes.grid'] = True\n",
        "# import seaborn as sns\n",
        "device = torch.device('cuda' if torch.cuda.is_available() else 'cpu')\n",
        "np.random.seed(142)"
      ]
    },
    {
      "cell_type": "code",
      "execution_count": 96,
      "metadata": {
        "id": "SzGQQEN7mArY"
      },
      "outputs": [],
      "source": [
        "# Create DataFrame for training (calibration)\n",
        "data_train = pd.DataFrame({\n",
        "    'prec': plui,\n",
        "    'pet': etp,\n",
        "\n",
        "    'target': discharge\n",
        "})\n",
        "\n",
        "# Create DataFrame for validation (test)\n",
        "data_test = pd.DataFrame({\n",
        "    'prec': plui1,\n",
        "    'pet': etp1,\n",
        "\n",
        "    'target': discharge1\n",
        "})\n",
        "\n",
        "# Concatenate the two DataFrames (calibration + validation)\n",
        "data = pd.concat([data_train, data_test], ignore_index=True)\n"
      ]
    },
    {
      "cell_type": "code",
      "source": [
        "def Make_tidydata_for_kan(data,scaler,data_type=\"full\"):\n",
        "    if data_type==\"full\":\n",
        "        data= data.sort_index()\n",
        "        data[data.columns] = scaler.fit_transform(data[data.columns])\n",
        "        # print(\"data:\",data.shape)\n",
        "    # Splitting the dataset into training, validation, and test sets\n",
        "    train_size = 1280\n",
        "    val_size = 730\n",
        "    #Train_val_test sets\n",
        "    Xy_train = data[:train_size]\n",
        "    Xy_val= data[train_size:]\n",
        "    return [Xy_train,Xy_val]\n",
        "\n",
        "def data_loading(Xy):\n",
        "    X, y = Xy.values[:, :-1], Xy.values[:, -1]\n",
        "    X = torch.tensor(X, dtype=torch.float32)\n",
        "    y = torch.tensor(y, dtype=torch.float32).unsqueeze(1)\n",
        "\n",
        "    dataset = TensorDataset(X, y)\n",
        "\n",
        "    batch_size = len(dataset)\n",
        "\n",
        "    loader = DataLoader(dataset, batch_size=batch_size, shuffle=False)\n",
        "\n",
        "    return loader\n"
      ],
      "metadata": {
        "id": "5A5zoUGBnzvd"
      },
      "execution_count": 97,
      "outputs": []
    },
    {
      "cell_type": "code",
      "source": [
        "# Function to make predictions on a complete DataLoader\n",
        "def predict_all(model, loader):\n",
        "    model.eval()\n",
        "    predictions = []\n",
        "    targets = []\n",
        "\n",
        "    with torch.no_grad():\n",
        "        for X_batch, y_batch in loader:\n",
        "            y_pred = model(X_batch, update_grid=False)\n",
        "            predictions.append(y_pred)\n",
        "            targets.append(y_batch)\n",
        "\n",
        "    predictions = torch.cat(predictions, dim=0).numpy().flatten()\n",
        "    targets = torch.cat(targets, dim=0).numpy().flatten()\n",
        "    return predictions, targets\n",
        "\n",
        "\n",
        "def train_test_loop_for_Q(data, epochs, scaler, scaler_y, layers_hidden=[9, 39, 1]):\n",
        "    import copy\n",
        "\n",
        "    data_copy = data.copy()\n",
        "\n",
        "    list_data = Make_tidydata_for_kan(data_copy, scaler)\n",
        "    train_loader, val_loader = [data_loading(d) for d in list_data]\n",
        "\n",
        "    input_size = data_copy.shape[1] - 1\n",
        "    local_layers_hidden = layers_hidden.copy()\n",
        "    local_layers_hidden[0] = input_size\n",
        "\n",
        "    Kan_network = KAN(layers_hidden=local_layers_hidden).to(torch.float32)\n",
        "\n",
        "    criterion = nn.MSELoss()\n",
        "    optimizer = torch.optim.Adam(Kan_network.parameters(), lr=0.001)\n",
        "    Kan_network.train()\n",
        "\n",
        "    best_val_nse = -np.inf  # very low initialization\n",
        "    best_model_state = None  # variable to store the best model\n",
        "\n",
        "    for epoch in range(epochs):\n",
        "        epoch_train_loss = 0\n",
        "        epoch_val_loss = 0\n",
        "\n",
        "        # Training\n",
        "        for X_batch, y_batch in train_loader:\n",
        "            optimizer.zero_grad()\n",
        "            y_pred = Kan_network(X_batch, update_grid=False)\n",
        "            loss = criterion(y_pred, y_batch)\n",
        "            loss.backward()\n",
        "            optimizer.step()\n",
        "            epoch_train_loss += loss.item()\n",
        "\n",
        "        avg_train_loss = epoch_train_loss / len(train_loader)\n",
        "\n",
        "        # Validation\n",
        "        with torch.no_grad():\n",
        "            for X_batch, y_batch in val_loader:\n",
        "                y_pred_ = Kan_network(X_batch, update_grid=False)\n",
        "                loss_ = criterion(y_pred_, y_batch)\n",
        "                epoch_val_loss += loss_.item()\n",
        "\n",
        "        avg_val_loss = epoch_val_loss / len(val_loader)\n",
        "\n",
        "        # NSE\n",
        "        y_train_pred, y_train_true = predict_all(Kan_network, train_loader)\n",
        "        y_val_pred, y_val_true = predict_all(Kan_network, val_loader)\n",
        "\n",
        "        y_train_pred = scaler_y.inverse_transform(y_train_pred.reshape(-1, 1)).flatten()\n",
        "        y_train_true = scaler_y.inverse_transform(y_train_true.reshape(-1, 1)).flatten()\n",
        "        y_val_pred = scaler_y.inverse_transform(y_val_pred.reshape(-1, 1)).flatten()\n",
        "        y_val_true = scaler_y.inverse_transform(y_val_true.reshape(-1, 1)).flatten()\n",
        "\n",
        "        nse_train = nash_sutcliffe_efficiency(y_train_true, y_train_pred)\n",
        "        nse_val = nash_sutcliffe_efficiency(y_val_true, y_val_pred)\n",
        "\n",
        "        # If better NSE on validation is reached, save model weights\n",
        "        if nse_val > best_val_nse:\n",
        "            best_val_nse = nse_val\n",
        "            best_model_state = copy.deepcopy(Kan_network.state_dict())\n",
        "\n",
        "        if epoch % 50 == 0:\n",
        "            print(f\"Epoch [{epoch}/{epochs}] | Train MSE: {avg_train_loss:.4f} | Val MSE: {avg_val_loss:.4f} | Train NSE: {nse_train:.4f} | Val NSE: {nse_val:.4f}\")\n",
        "\n",
        "    # Load the best model weights\n",
        "    Kan_network.load_state_dict(best_model_state)\n",
        "\n",
        "    # Final predictions with the best model\n",
        "    y_train_pred, y_train_true = predict_all(Kan_network, train_loader)\n",
        "    y_val_pred, y_val_true = predict_all(Kan_network, val_loader)\n",
        "\n",
        "    y_train_pred = scaler_y.inverse_transform(y_train_pred.reshape(-1, 1)).flatten()\n",
        "    y_train_true = scaler_y.inverse_transform(y_train_true.reshape(-1, 1)).flatten()\n",
        "    y_val_pred = scaler_y.inverse_transform(y_val_pred.reshape(-1, 1)).flatten()\n",
        "    y_val_true = scaler_y.inverse_transform(y_val_true.reshape(-1, 1)).flatten()\n",
        "\n",
        "    nse_train = nash_sutcliffe_efficiency(y_train_true, y_train_pred)\n",
        "    nse_val = nash_sutcliffe_efficiency(y_val_true, y_val_pred)\n",
        "\n",
        "    print(f\"\\n Final NSE Train (best model) : {nse_train:.4f} | Final NSE Val (best model) : {nse_val:.4f}\")\n",
        "\n",
        "    return Kan_network, y_train_pred, y_val_pred\n"
      ],
      "metadata": {
        "id": "QhKVMiklolSC"
      },
      "execution_count": 98,
      "outputs": []
    },
    {
      "cell_type": "code",
      "source": [
        "# Prepare the scaler for the features\n",
        "scaler = StandardScaler()\n",
        "\n",
        "# Prepare the scaler for the target Q\n",
        "scaler_y = StandardScaler()\n",
        "\n",
        "# Data and number of epochs\n",
        "data, epochs = data, 400\n",
        "print(data.shape)\n",
        "\n",
        "# Fit the scaler for the target (Q): last column\n",
        "scaler_y.fit(data.iloc[:, -1].values.reshape(-1, 1))\n",
        "\n",
        "# Train the model  (predicting Q)\n",
        "model, pred_train, pred_test = train_test_loop_for_Q(data, epochs, scaler, scaler_y, layers_hidden=[2, 32, 1])\n"
      ],
      "metadata": {
        "id": "Zda08knpu1xD",
        "colab": {
          "base_uri": "https://localhost:8080/"
        },
        "outputId": "b9665b27-30c5-48ad-8ca2-eb002d35cfb2"
      },
      "execution_count": 99,
      "outputs": [
        {
          "output_type": "stream",
          "name": "stdout",
          "text": [
            "(2010, 3)\n",
            "Epoch [0/400] | Train MSE: 1.0711 | Val MSE: 0.8795 | Train NSE: -0.0012 | Val NSE: -0.0130\n",
            "Epoch [50/400] | Train MSE: 0.8969 | Val MSE: 0.7779 | Train NSE: 0.1591 | Val NSE: 0.1041\n",
            "Epoch [100/400] | Train MSE: 0.8377 | Val MSE: 0.7470 | Train NSE: 0.2137 | Val NSE: 0.1396\n",
            "Epoch [150/400] | Train MSE: 0.8128 | Val MSE: 0.7411 | Train NSE: 0.2367 | Val NSE: 0.1465\n",
            "Epoch [200/400] | Train MSE: 0.8006 | Val MSE: 0.7417 | Train NSE: 0.2480 | Val NSE: 0.1458\n",
            "Epoch [250/400] | Train MSE: 0.7933 | Val MSE: 0.7424 | Train NSE: 0.2548 | Val NSE: 0.1450\n",
            "Epoch [300/400] | Train MSE: 0.7865 | Val MSE: 0.7429 | Train NSE: 0.2612 | Val NSE: 0.1443\n",
            "Epoch [350/400] | Train MSE: 0.7786 | Val MSE: 0.7441 | Train NSE: 0.2687 | Val NSE: 0.1430\n",
            "\n",
            " Final NSE Train (best model) : 0.2399 | Final NSE Val (best model) : 0.1466\n"
          ]
        }
      ]
    },
    {
      "cell_type": "markdown",
      "source": [
        "Simulation with Scaling data"
      ],
      "metadata": {
        "id": "nefYtmcO_pui"
      }
    },
    {
      "cell_type": "code",
      "source": [
        "# Training Performance evaluation\n",
        "\n",
        "nse_value = nash_sutcliffe_efficiency(discharge, pred_train)\n",
        "print(\"Nash-Sutcliffe Efficiency (NSE):\", nse_value)\n",
        "\n",
        "rmse = calculate_rmse(discharge, pred_train)\n",
        "print('RMSE =', rmse)\n",
        "\n",
        "r2 = calculate_r2(discharge, pred_train)\n",
        "print('R² =', r2)"
      ],
      "metadata": {
        "colab": {
          "base_uri": "https://localhost:8080/"
        },
        "id": "fs74dHmWrf_c",
        "outputId": "26e68d74-1c0a-491b-e7e9-c29e7cc4f5ec"
      },
      "execution_count": 100,
      "outputs": [
        {
          "output_type": "stream",
          "name": "stdout",
          "text": [
            "Nash-Sutcliffe Efficiency (NSE): 0.2399378342602636\n",
            "RMSE = 205.50458844434814\n",
            "R² = 0.24014653094410598\n"
          ]
        }
      ]
    },
    {
      "cell_type": "code",
      "source": [
        "# Validation Performance evaluation\n",
        "\n",
        "nse_value = nash_sutcliffe_efficiency(discharge1, pred_test)\n",
        "print(\"Nash-Sutcliffe Efficiency (NSE):\", nse_value)\n",
        "\n",
        "rmse = calculate_rmse(discharge1, pred_test)\n",
        "print('RMSE =', rmse)\n",
        "\n",
        "r2 = calculate_r2(discharge1, pred_test)\n",
        "print('R² =', r2)"
      ],
      "metadata": {
        "colab": {
          "base_uri": "https://localhost:8080/"
        },
        "id": "2YqL0bN6rx3L",
        "outputId": "937867a1-8500-470f-a107-da42c96a17ad"
      },
      "execution_count": 101,
      "outputs": [
        {
          "output_type": "stream",
          "name": "stdout",
          "text": [
            "Nash-Sutcliffe Efficiency (NSE): 0.14657171086409027\n",
            "RMSE = 196.6760200334294\n",
            "R² = 0.1585059122267075\n"
          ]
        }
      ]
    },
    {
      "cell_type": "code",
      "source": [
        "# Generate dates\n",
        "time1 = np.datetime64('2006-01-01')\n",
        "time2 = np.datetime64('2007-12-31')\n",
        "time = np.arange(time1, time2 + np.timedelta64(1, 'D'), dtype='datetime64[D]')\n",
        "\n",
        "# Create figure and axis\n",
        "fig, ax = plt.subplots(figsize=(11., 3.5))\n",
        "\n",
        "\n",
        "# Plot observed and simulated discharge\n",
        "ax.plot(time, discharge1, 'b',  label='Observation', linewidth=1.5)\n",
        "ax.plot(time, pred_test, 'magenta', label='KAN', linewidth=1.5)\n",
        "\n",
        "# X-axis parameters (date format)\n",
        "ax.xaxis.set_major_formatter(mdates.DateFormatter('%Y-%m'))\n",
        "ax.xaxis.set_major_locator(mdates.MonthLocator(bymonth=[1, 7]))\n",
        "plt.xticks(rotation=45)\n",
        "ax.set_xlabel('Date [day]')\n",
        "\n",
        "# Y-axis parameters\n",
        "ax.set_ylabel('Runoff [m³/s]')\n",
        "ax.tick_params(axis='y', labelcolor='black')\n",
        "ax.set_ylim(-100, 1800)\n",
        "ax.set_yticks(np.arange(0, 1800, 500))\n",
        "\n",
        "# Add legend\n",
        "ax.legend(loc='upper left')\n",
        "\n",
        "# Show grid\n",
        "ax.grid(False)\n",
        "\n",
        "# Avoid overlaps\n",
        "plt.tight_layout()\n",
        "\n",
        "# Save figure\n",
        "plt.savefig(\"GR6J_KAN.jpeg\", format='jpeg', dpi=700)\n",
        "\n",
        "#files.download(\"GR6J_KAN.jpeg\")\n",
        "\n",
        "\n",
        "# Show plot\n",
        "plt.show()\n"
      ],
      "metadata": {
        "colab": {
          "base_uri": "https://localhost:8080/",
          "height": 357
        },
        "id": "3aPc2W4jZEXS",
        "outputId": "2b849554-b828-45cc-8486-26ad494df615"
      },
      "execution_count": 102,
      "outputs": [
        {
          "output_type": "display_data",
          "data": {
            "text/plain": [
              "<Figure size 1100x350 with 1 Axes>"
            ],
            "image/png": "[encoded data removed]"
          },
          "metadata": {}
        }
      ]
    },
    {
      "cell_type": "code",
      "source": [
        "# Create a DataFrame to record the mean trajectory into an Excel file\n",
        "df_mean_trajectory = pd.DataFrame({'KAN': pred_test})\n",
        "\n",
        "# Save to an Excel file\n",
        "df_mean_trajectory.to_excel('KAN.xlsx', index=False)\n",
        "\n",
        "# Download the file in Google Colab\n",
        "#files.download('KAN.xlsx')"
      ],
      "metadata": {
        "id": "0DIWetuXn_bO"
      },
      "execution_count": 103,
      "outputs": []
    }
  ],
  "metadata": {
    "colab": {
      "provenance": []
    },
    "kernelspec": {
      "display_name": "Python 3",
      "name": "python3"
    },
    "language_info": {
      "codemirror_mode": {
        "name": "ipython",
        "version": 3
      },
      "file_extension": ".py",
      "mimetype": "text/x-python",
      "name": "python",
      "nbconvert_exporter": "python",
      "pygments_lexer": "ipython3",
      "version": "3.11.2"
    }
  },
  "nbformat": 4,
  "nbformat_minor": 0
}